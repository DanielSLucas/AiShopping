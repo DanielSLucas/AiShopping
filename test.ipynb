{
 "cells": [
  {
   "cell_type": "code",
   "execution_count": 158,
   "metadata": {},
   "outputs": [],
   "source": [
    "from typing import List, Dict, Any, Literal, Annotated\n",
    "\n",
    "from typing_extensions import TypedDict\n",
    "\n",
    "from langgraph.checkpoint.memory import MemorySaver\n",
    "from langgraph.graph import StateGraph, START, END\n",
    "from langgraph.graph.message import add_messages\n",
    "from langchain_openai import ChatOpenAI \n",
    "from langchain_core.prompts import ChatPromptTemplate, MessagesPlaceholder\n",
    "from langgraph.prebuilt import ToolNode, tools_condition\n",
    "from langchain_core.tools import tool\n",
    "from langchain.schema import HumanMessage, AIMessage\n",
    "from langgraph.types import interrupt, Command\n",
    "\n",
    "from pydantic import BaseModel"
   ]
  },
  {
   "cell_type": "code",
   "execution_count": 159,
   "metadata": {},
   "outputs": [],
   "source": [
    "class State(TypedDict):\n",
    "  messages: Annotated[list, add_messages]\n",
    "\n",
    "graph_builder = StateGraph(State)"
   ]
  },
  {
   "cell_type": "code",
   "execution_count": 160,
   "metadata": {},
   "outputs": [],
   "source": [
    "class AskMoreDetails(BaseModel):\n",
    "  \"\"\"Peça por mais informações para o usuário\"\"\"\n",
    "  question: str\n",
    "\n",
    "receptionist_tools = [AskMoreDetails]"
   ]
  },
  {
   "cell_type": "code",
   "execution_count": 161,
   "metadata": {},
   "outputs": [
    {
     "data": {
      "text/plain": [
       "<langgraph.graph.state.StateGraph at 0x7f365fca7190>"
      ]
     },
     "execution_count": 161,
     "metadata": {},
     "output_type": "execute_result"
    }
   ],
   "source": [
    "llm_receptionist = ChatOpenAI(model=\"gpt-4o-mini\")\n",
    "\n",
    "receptionist_prompt = ChatPromptTemplate.from_messages([\n",
    "  (\"system\", \"\"\"\n",
    "# Função\n",
    "Você é um assistente de compras online. \n",
    "# Tarefa\n",
    "- Você é responsavel por atender o usuário, perguntando o básico sobre o que ele deseja comprar. \n",
    "- Faça no máximo 1 pergunta, o mais completa possível, para clarificar o que o usuário deseja.\n",
    "  - Essa pergunta deve ter o seguinte formato: \"Ao comprar um <produto>, é importante levar em consideração <caracteristicas>. Com isso, preciso que responda as seguintes perguntas: <perguntas>\"\n",
    "\"\"\"),\n",
    "  MessagesPlaceholder(\"messages\")\n",
    "])\n",
    "\n",
    "def receptionist(state: State):\n",
    "  message = (receptionist_prompt | llm_receptionist.bind_tools(receptionist_tools)).invoke(state[\"messages\"])\n",
    "  print(f\"RECEPTIONIST -> {message}\")\n",
    "  assert len(message.tool_calls) <= 1\n",
    "  return {\"messages\": [message]}\n",
    "\n",
    "graph_builder.add_node(\"receptionist\", receptionist)"
   ]
  },
  {
   "cell_type": "code",
   "execution_count": 162,
   "metadata": {},
   "outputs": [
    {
     "data": {
      "text/plain": [
       "<langgraph.graph.state.StateGraph at 0x7f365fca7190>"
      ]
     },
     "execution_count": 162,
     "metadata": {},
     "output_type": "execute_result"
    }
   ],
   "source": [
    "def ask_human(state):\n",
    "  print(\"ASK_HUMAN\")\n",
    "  tool_call = state[\"messages\"][-1].tool_calls[0]\n",
    "  \n",
    "  tool_call_id = tool_call[\"id\"]\n",
    "  question = tool_call[\"args\"][\"question\"]\n",
    "  print(f\"question {question}\")\n",
    "\n",
    "  human_response = interrupt(question)\n",
    "  tool_message = {\"tool_call_id\": tool_call_id, \"type\": \"tool\", \"content\": human_response}\n",
    "  print(f\"tool_message {tool_message}\")\n",
    "\n",
    "  return {\"messages\": [tool_message]}\n",
    "\n",
    "graph_builder.add_node(\"ask_human\", ask_human)"
   ]
  },
  {
   "cell_type": "code",
   "execution_count": 163,
   "metadata": {},
   "outputs": [
    {
     "data": {
      "text/plain": [
       "<langgraph.graph.state.StateGraph at 0x7f365fca7190>"
      ]
     },
     "execution_count": 163,
     "metadata": {},
     "output_type": "execute_result"
    }
   ],
   "source": [
    "llm_fake_web_search = ChatOpenAI(model=\"gpt-4o-mini\")\n",
    "\n",
    "fake_web_search_prompt = ChatPromptTemplate.from_messages([\n",
    "  (\"system\", \"Você simula buscas na internet. Ao receber a query do usuário retorna informações relacionadas ao assunto buscado, contendo o link da página e um resumo de seu conteúdo\"),\n",
    "  MessagesPlaceholder(\"messages\")\n",
    "])\n",
    "\n",
    "@tool\n",
    "def web_search(query: str) -> str:\n",
    "  \"\"\"Busca na internet por mais informações\"\"\"\n",
    "  return (fake_web_search_prompt | llm_fake_web_search).invoke([HumanMessage(query)])\n",
    "\n",
    "tools = [web_search]\n",
    "tool_node = ToolNode(tools=tools)\n",
    "\n",
    "graph_builder.add_node(\"tools\", tool_node)"
   ]
  },
  {
   "cell_type": "code",
   "execution_count": 164,
   "metadata": {},
   "outputs": [
    {
     "data": {
      "text/plain": [
       "<langgraph.graph.state.StateGraph at 0x7f365fca7190>"
      ]
     },
     "execution_count": 164,
     "metadata": {},
     "output_type": "execute_result"
    }
   ],
   "source": [
    "llm_researcher = ChatOpenAI(model=\"gpt-4o-mini\")\n",
    "\n",
    "researcher_prompt = ChatPromptTemplate.from_messages([\n",
    "  (\"system\", \"Você é um assistente de compras online, responsavel por buscar produtos na internet conforme solicitado pelo usuário\"),\n",
    "  MessagesPlaceholder(\"messages\")\n",
    "])\n",
    "\n",
    "def researcher(state: State):\n",
    "  message = (researcher_prompt | llm_researcher.bind_tools(tools)).invoke(state[\"messages\"])\n",
    "  print(f\"RESEARCHER -> {message}\")\n",
    "  return {\"messages\": [message]}\n",
    "\n",
    "graph_builder.add_node(\"researcher\", researcher)"
   ]
  },
  {
   "cell_type": "code",
   "execution_count": 165,
   "metadata": {},
   "outputs": [
    {
     "data": {
      "text/plain": [
       "<langgraph.graph.state.StateGraph at 0x7f365fca7190>"
      ]
     },
     "execution_count": 165,
     "metadata": {},
     "output_type": "execute_result"
    }
   ],
   "source": [
    "llm_analyst = ChatOpenAI(model=\"gpt-4o-mini\")\n",
    "\n",
    "analyst_prompt = ChatPromptTemplate.from_messages([\n",
    "  (\"system\", \"Você é um assistente de compras online, responsavel analisar produtos e selecionar os mais relevantes de acordo com os dados recebidos.\"),\n",
    "  MessagesPlaceholder(\"messages\")\n",
    "])\n",
    "\n",
    "def analyst(state: State):\n",
    "  message = (analyst_prompt | llm_analyst).invoke(state[\"messages\"])\n",
    "  print(f\"ANALYST -> {message}\")\n",
    "  return {\"messages\": [message]}\n",
    "\n",
    "graph_builder.add_node(\"analyst\", analyst)"
   ]
  },
  {
   "cell_type": "code",
   "execution_count": 166,
   "metadata": {},
   "outputs": [
    {
     "data": {
      "text/plain": [
       "<langgraph.graph.state.StateGraph at 0x7f365fca7190>"
      ]
     },
     "execution_count": 166,
     "metadata": {},
     "output_type": "execute_result"
    }
   ],
   "source": [
    "llm_product_reviewer = ChatOpenAI(model=\"gpt-4o-mini\")\n",
    "\n",
    "product_reviewer_prompt = ChatPromptTemplate.from_messages([\n",
    "  (\"system\", \"Você é um assistente de compras online, responsavel por comparar produtos pré-selecionados por um analista afim de ajudar o usuário na sua decisão de compra.\"),\n",
    "  MessagesPlaceholder(\"messages\")\n",
    "])\n",
    "\n",
    "def product_reviewer(state: State):\n",
    "  # converted_messages = [\n",
    "  #   HumanMessage(content=msg.content) if isinstance(msg, AIMessage) and hasattr(msg, \"tool_calls\") and msg.tool_calls\n",
    "  #   else AIMessage(content=msg.content) if isinstance(msg, HumanMessage)\n",
    "  #   else msg\n",
    "  #   for msg in state[\"messages\"]\n",
    "  # ]\n",
    "\n",
    "  # state[\"messages\"] = converted_messages\n",
    "  message = (product_reviewer_prompt | llm_product_reviewer).invoke(state[\"messages\"])\n",
    "  print(f\"PRODUCT_REVIEWER -> {message}\")\n",
    "  \n",
    "  return {\"messages\": [message]}\n",
    "\n",
    "graph_builder.add_node(\"product_reviewer\", product_reviewer)"
   ]
  },
  {
   "cell_type": "code",
   "execution_count": 167,
   "metadata": {},
   "outputs": [
    {
     "data": {
      "text/plain": [
       "<langgraph.graph.state.StateGraph at 0x7f365fca7190>"
      ]
     },
     "execution_count": 167,
     "metadata": {},
     "output_type": "execute_result"
    }
   ],
   "source": [
    "def need_more_details(state: State) -> Literal[\"ask_human\", \"researcher\"]:\n",
    "  \"\"\"Define se precisa pedir mais detalhes para o usuário\"\"\"\n",
    "  print(\"NEED_MORE_DETAILS\")\n",
    "  last_message = state[\"messages\"][-1]\n",
    "  return \"ask_human\" if last_message.tool_calls else \"researcher\"\n",
    "\n",
    "\n",
    "graph_builder.add_edge(START, \"receptionist\")\n",
    "graph_builder.add_conditional_edges(\n",
    "  \"receptionist\",\n",
    "  need_more_details,\n",
    ")\n",
    "graph_builder.add_edge(\"ask_human\", \"researcher\")\n",
    "graph_builder.add_conditional_edges(\n",
    "  \"researcher\",\n",
    "  tools_condition,\n",
    ")\n",
    "graph_builder.add_edge(\"tools\", \"analyst\")\n",
    "graph_builder.add_edge(\"analyst\",  \"product_reviewer\")\n",
    "graph_builder.add_edge(\"product_reviewer\", END)"
   ]
  },
  {
   "cell_type": "code",
   "execution_count": 168,
   "metadata": {},
   "outputs": [],
   "source": [
    "memory = MemorySaver()\n",
    "graph = graph_builder.compile(checkpointer=memory)"
   ]
  },
  {
   "cell_type": "code",
   "execution_count": 169,
   "metadata": {},
   "outputs": [
    {
     "data": {
      "image/png": "[encoded data removed]",
      "text/plain": [
       "<IPython.core.display.Image object>"
      ]
     },
     "metadata": {},
     "output_type": "display_data"
    }
   ],
   "source": [
    "from IPython.display import Image, display\n",
    "\n",
    "try:\n",
    "  display(Image(graph.get_graph().draw_mermaid_png()))\n",
    "except Exception:\n",
    "  # This requires some extra dependencies and is optional\n",
    "  pass"
   ]
  },
  {
   "cell_type": "code",
   "execution_count": 170,
   "metadata": {},
   "outputs": [
    {
     "name": "stdout",
     "output_type": "stream",
     "text": [
      "event -> {'messages': [HumanMessage(content='Quero comprar um teclado', additional_kwargs={}, response_metadata={}, id='f8251a0d-9c47-44d7-a07a-1df39edd1e02')]}\n",
      "================================\u001b[1m Human Message \u001b[0m=================================\n",
      "\n",
      "Quero comprar um teclado\n",
      "RECEPTIONIST -> content='' additional_kwargs={'tool_calls': [{'id': 'call_jDdK7o8WBHWffLfjDz1ocaVl', 'function': {'arguments': '{\"question\":\"Ao comprar um teclado, é importante levar em consideração o tipo (mecânico ou membrana), o layout (ABNT2, US, etc.), se possui iluminação, e a presença de teclas adicionais. Com isso, preciso que responda as seguintes perguntas: que tipo de teclado você prefere, qual layout você precisa, quer que tenha iluminação e se precisa de teclas adicionais?\"}', 'name': 'AskMoreDetails'}, 'type': 'function'}], 'refusal': None} response_metadata={'token_usage': {'completion_tokens': 94, 'prompt_tokens': 159, 'total_tokens': 253, 'completion_tokens_details': {'accepted_prediction_tokens': 0, 'audio_tokens': 0, 'reasoning_tokens': 0, 'rejected_prediction_tokens': 0}, 'prompt_tokens_details': {'audio_tokens': 0, 'cached_tokens': 0}}, 'model_name': 'gpt-4o-mini-2024-07-18', 'system_fingerprint': 'fp_06737a9306', 'finish_reason': 'tool_calls', 'logprobs': None} id='run-3b7f4bc9-1f66-450f-8c3b-60128f31f0c9-0' tool_calls=[{'name': 'AskMoreDetails', 'args': {'question': 'Ao comprar um teclado, é importante levar em consideração o tipo (mecânico ou membrana), o layout (ABNT2, US, etc.), se possui iluminação, e a presença de teclas adicionais. Com isso, preciso que responda as seguintes perguntas: que tipo de teclado você prefere, qual layout você precisa, quer que tenha iluminação e se precisa de teclas adicionais?'}, 'id': 'call_jDdK7o8WBHWffLfjDz1ocaVl', 'type': 'tool_call'}] usage_metadata={'input_tokens': 159, 'output_tokens': 94, 'total_tokens': 253, 'input_token_details': {'audio': 0, 'cache_read': 0}, 'output_token_details': {'audio': 0, 'reasoning': 0}}\n",
      "NEED_MORE_DETAILS\n",
      "event -> {'messages': [HumanMessage(content='Quero comprar um teclado', additional_kwargs={}, response_metadata={}, id='f8251a0d-9c47-44d7-a07a-1df39edd1e02'), AIMessage(content='', additional_kwargs={'tool_calls': [{'id': 'call_jDdK7o8WBHWffLfjDz1ocaVl', 'function': {'arguments': '{\"question\":\"Ao comprar um teclado, é importante levar em consideração o tipo (mecânico ou membrana), o layout (ABNT2, US, etc.), se possui iluminação, e a presença de teclas adicionais. Com isso, preciso que responda as seguintes perguntas: que tipo de teclado você prefere, qual layout você precisa, quer que tenha iluminação e se precisa de teclas adicionais?\"}', 'name': 'AskMoreDetails'}, 'type': 'function'}], 'refusal': None}, response_metadata={'token_usage': {'completion_tokens': 94, 'prompt_tokens': 159, 'total_tokens': 253, 'completion_tokens_details': {'accepted_prediction_tokens': 0, 'audio_tokens': 0, 'reasoning_tokens': 0, 'rejected_prediction_tokens': 0}, 'prompt_tokens_details': {'audio_tokens': 0, 'cached_tokens': 0}}, 'model_name': 'gpt-4o-mini-2024-07-18', 'system_fingerprint': 'fp_06737a9306', 'finish_reason': 'tool_calls', 'logprobs': None}, id='run-3b7f4bc9-1f66-450f-8c3b-60128f31f0c9-0', tool_calls=[{'name': 'AskMoreDetails', 'args': {'question': 'Ao comprar um teclado, é importante levar em consideração o tipo (mecânico ou membrana), o layout (ABNT2, US, etc.), se possui iluminação, e a presença de teclas adicionais. Com isso, preciso que responda as seguintes perguntas: que tipo de teclado você prefere, qual layout você precisa, quer que tenha iluminação e se precisa de teclas adicionais?'}, 'id': 'call_jDdK7o8WBHWffLfjDz1ocaVl', 'type': 'tool_call'}], usage_metadata={'input_tokens': 159, 'output_tokens': 94, 'total_tokens': 253, 'input_token_details': {'audio': 0, 'cache_read': 0}, 'output_token_details': {'audio': 0, 'reasoning': 0}})]}\n",
      "==================================\u001b[1m Ai Message \u001b[0m==================================\n",
      "Tool Calls:\n",
      "  AskMoreDetails (call_jDdK7o8WBHWffLfjDz1ocaVl)\n",
      " Call ID: call_jDdK7o8WBHWffLfjDz1ocaVl\n",
      "  Args:\n",
      "    question: Ao comprar um teclado, é importante levar em consideração o tipo (mecânico ou membrana), o layout (ABNT2, US, etc.), se possui iluminação, e a presença de teclas adicionais. Com isso, preciso que responda as seguintes perguntas: que tipo de teclado você prefere, qual layout você precisa, quer que tenha iluminação e se precisa de teclas adicionais?\n",
      "ASK_HUMAN\n",
      "question Ao comprar um teclado, é importante levar em consideração o tipo (mecânico ou membrana), o layout (ABNT2, US, etc.), se possui iluminação, e a presença de teclas adicionais. Com isso, preciso que responda as seguintes perguntas: que tipo de teclado você prefere, qual layout você precisa, quer que tenha iluminação e se precisa de teclas adicionais?\n",
      "event -> {'messages': [HumanMessage(content='Quero comprar um teclado', additional_kwargs={}, response_metadata={}, id='f8251a0d-9c47-44d7-a07a-1df39edd1e02'), AIMessage(content='', additional_kwargs={'tool_calls': [{'id': 'call_jDdK7o8WBHWffLfjDz1ocaVl', 'function': {'arguments': '{\"question\":\"Ao comprar um teclado, é importante levar em consideração o tipo (mecânico ou membrana), o layout (ABNT2, US, etc.), se possui iluminação, e a presença de teclas adicionais. Com isso, preciso que responda as seguintes perguntas: que tipo de teclado você prefere, qual layout você precisa, quer que tenha iluminação e se precisa de teclas adicionais?\"}', 'name': 'AskMoreDetails'}, 'type': 'function'}], 'refusal': None}, response_metadata={'token_usage': {'completion_tokens': 94, 'prompt_tokens': 159, 'total_tokens': 253, 'completion_tokens_details': {'accepted_prediction_tokens': 0, 'audio_tokens': 0, 'reasoning_tokens': 0, 'rejected_prediction_tokens': 0}, 'prompt_tokens_details': {'audio_tokens': 0, 'cached_tokens': 0}}, 'model_name': 'gpt-4o-mini-2024-07-18', 'system_fingerprint': 'fp_06737a9306', 'finish_reason': 'tool_calls', 'logprobs': None}, id='run-3b7f4bc9-1f66-450f-8c3b-60128f31f0c9-0', tool_calls=[{'name': 'AskMoreDetails', 'args': {'question': 'Ao comprar um teclado, é importante levar em consideração o tipo (mecânico ou membrana), o layout (ABNT2, US, etc.), se possui iluminação, e a presença de teclas adicionais. Com isso, preciso que responda as seguintes perguntas: que tipo de teclado você prefere, qual layout você precisa, quer que tenha iluminação e se precisa de teclas adicionais?'}, 'id': 'call_jDdK7o8WBHWffLfjDz1ocaVl', 'type': 'tool_call'}], usage_metadata={'input_tokens': 159, 'output_tokens': 94, 'total_tokens': 253, 'input_token_details': {'audio': 0, 'cache_read': 0}, 'output_token_details': {'audio': 0, 'reasoning': 0}})]}\n",
      "==================================\u001b[1m Ai Message \u001b[0m==================================\n",
      "Tool Calls:\n",
      "  AskMoreDetails (call_jDdK7o8WBHWffLfjDz1ocaVl)\n",
      " Call ID: call_jDdK7o8WBHWffLfjDz1ocaVl\n",
      "  Args:\n",
      "    question: Ao comprar um teclado, é importante levar em consideração o tipo (mecânico ou membrana), o layout (ABNT2, US, etc.), se possui iluminação, e a presença de teclas adicionais. Com isso, preciso que responda as seguintes perguntas: que tipo de teclado você prefere, qual layout você precisa, quer que tenha iluminação e se precisa de teclas adicionais?\n",
      "ASK_HUMAN\n",
      "question Ao comprar um teclado, é importante levar em consideração o tipo (mecânico ou membrana), o layout (ABNT2, US, etc.), se possui iluminação, e a presença de teclas adicionais. Com isso, preciso que responda as seguintes perguntas: que tipo de teclado você prefere, qual layout você precisa, quer que tenha iluminação e se precisa de teclas adicionais?\n",
      "tool_message {'tool_call_id': 'call_jDdK7o8WBHWffLfjDz1ocaVl', 'type': 'tool', 'content': 'Quero um teclado mecânico para jogos e trabalho, preferêncialmente abnt2, mas n obrigatório, além disso é importante que o switch faça pouco barulho'}\n",
      "event -> {'messages': [HumanMessage(content='Quero comprar um teclado', additional_kwargs={}, response_metadata={}, id='f8251a0d-9c47-44d7-a07a-1df39edd1e02'), AIMessage(content='', additional_kwargs={'tool_calls': [{'id': 'call_jDdK7o8WBHWffLfjDz1ocaVl', 'function': {'arguments': '{\"question\":\"Ao comprar um teclado, é importante levar em consideração o tipo (mecânico ou membrana), o layout (ABNT2, US, etc.), se possui iluminação, e a presença de teclas adicionais. Com isso, preciso que responda as seguintes perguntas: que tipo de teclado você prefere, qual layout você precisa, quer que tenha iluminação e se precisa de teclas adicionais?\"}', 'name': 'AskMoreDetails'}, 'type': 'function'}], 'refusal': None}, response_metadata={'token_usage': {'completion_tokens': 94, 'prompt_tokens': 159, 'total_tokens': 253, 'completion_tokens_details': {'accepted_prediction_tokens': 0, 'audio_tokens': 0, 'reasoning_tokens': 0, 'rejected_prediction_tokens': 0}, 'prompt_tokens_details': {'audio_tokens': 0, 'cached_tokens': 0}}, 'model_name': 'gpt-4o-mini-2024-07-18', 'system_fingerprint': 'fp_06737a9306', 'finish_reason': 'tool_calls', 'logprobs': None}, id='run-3b7f4bc9-1f66-450f-8c3b-60128f31f0c9-0', tool_calls=[{'name': 'AskMoreDetails', 'args': {'question': 'Ao comprar um teclado, é importante levar em consideração o tipo (mecânico ou membrana), o layout (ABNT2, US, etc.), se possui iluminação, e a presença de teclas adicionais. Com isso, preciso que responda as seguintes perguntas: que tipo de teclado você prefere, qual layout você precisa, quer que tenha iluminação e se precisa de teclas adicionais?'}, 'id': 'call_jDdK7o8WBHWffLfjDz1ocaVl', 'type': 'tool_call'}], usage_metadata={'input_tokens': 159, 'output_tokens': 94, 'total_tokens': 253, 'input_token_details': {'audio': 0, 'cache_read': 0}, 'output_token_details': {'audio': 0, 'reasoning': 0}}), ToolMessage(content='Quero um teclado mecânico para jogos e trabalho, preferêncialmente abnt2, mas n obrigatório, além disso é importante que o switch faça pouco barulho', id='2c7fb787-2b99-4609-a6c7-346543f19f93', tool_call_id='call_jDdK7o8WBHWffLfjDz1ocaVl')]}\n",
      "=================================\u001b[1m Tool Message \u001b[0m=================================\n",
      "\n",
      "Quero um teclado mecânico para jogos e trabalho, preferêncialmente abnt2, mas n obrigatório, além disso é importante que o switch faça pouco barulho\n",
      "RESEARCHER -> content='' additional_kwargs={'tool_calls': [{'id': 'call_NtBUkG6W0pAVBVIqYBiQeIEN', 'function': {'arguments': '{\"query\":\"teclado mecânico jogos trabalho abnt2 switches silenciosos\"}', 'name': 'web_search'}, 'type': 'function'}], 'refusal': None} response_metadata={'token_usage': {'completion_tokens': 27, 'prompt_tokens': 206, 'total_tokens': 233, 'completion_tokens_details': {'accepted_prediction_tokens': 0, 'audio_tokens': 0, 'reasoning_tokens': 0, 'rejected_prediction_tokens': 0}, 'prompt_tokens_details': {'audio_tokens': 0, 'cached_tokens': 0}}, 'model_name': 'gpt-4o-mini-2024-07-18', 'system_fingerprint': 'fp_06737a9306', 'finish_reason': 'tool_calls', 'logprobs': None} id='run-517842b9-19f2-41b4-9351-253cb9d57930-0' tool_calls=[{'name': 'web_search', 'args': {'query': 'teclado mecânico jogos trabalho abnt2 switches silenciosos'}, 'id': 'call_NtBUkG6W0pAVBVIqYBiQeIEN', 'type': 'tool_call'}] usage_metadata={'input_tokens': 206, 'output_tokens': 27, 'total_tokens': 233, 'input_token_details': {'audio': 0, 'cache_read': 0}, 'output_token_details': {'audio': 0, 'reasoning': 0}}\n",
      "event -> {'messages': [HumanMessage(content='Quero comprar um teclado', additional_kwargs={}, response_metadata={}, id='f8251a0d-9c47-44d7-a07a-1df39edd1e02'), AIMessage(content='', additional_kwargs={'tool_calls': [{'id': 'call_jDdK7o8WBHWffLfjDz1ocaVl', 'function': {'arguments': '{\"question\":\"Ao comprar um teclado, é importante levar em consideração o tipo (mecânico ou membrana), o layout (ABNT2, US, etc.), se possui iluminação, e a presença de teclas adicionais. Com isso, preciso que responda as seguintes perguntas: que tipo de teclado você prefere, qual layout você precisa, quer que tenha iluminação e se precisa de teclas adicionais?\"}', 'name': 'AskMoreDetails'}, 'type': 'function'}], 'refusal': None}, response_metadata={'token_usage': {'completion_tokens': 94, 'prompt_tokens': 159, 'total_tokens': 253, 'completion_tokens_details': {'accepted_prediction_tokens': 0, 'audio_tokens': 0, 'reasoning_tokens': 0, 'rejected_prediction_tokens': 0}, 'prompt_tokens_details': {'audio_tokens': 0, 'cached_tokens': 0}}, 'model_name': 'gpt-4o-mini-2024-07-18', 'system_fingerprint': 'fp_06737a9306', 'finish_reason': 'tool_calls', 'logprobs': None}, id='run-3b7f4bc9-1f66-450f-8c3b-60128f31f0c9-0', tool_calls=[{'name': 'AskMoreDetails', 'args': {'question': 'Ao comprar um teclado, é importante levar em consideração o tipo (mecânico ou membrana), o layout (ABNT2, US, etc.), se possui iluminação, e a presença de teclas adicionais. Com isso, preciso que responda as seguintes perguntas: que tipo de teclado você prefere, qual layout você precisa, quer que tenha iluminação e se precisa de teclas adicionais?'}, 'id': 'call_jDdK7o8WBHWffLfjDz1ocaVl', 'type': 'tool_call'}], usage_metadata={'input_tokens': 159, 'output_tokens': 94, 'total_tokens': 253, 'input_token_details': {'audio': 0, 'cache_read': 0}, 'output_token_details': {'audio': 0, 'reasoning': 0}}), ToolMessage(content='Quero um teclado mecânico para jogos e trabalho, preferêncialmente abnt2, mas n obrigatório, além disso é importante que o switch faça pouco barulho', id='2c7fb787-2b99-4609-a6c7-346543f19f93', tool_call_id='call_jDdK7o8WBHWffLfjDz1ocaVl'), AIMessage(content='', additional_kwargs={'tool_calls': [{'id': 'call_NtBUkG6W0pAVBVIqYBiQeIEN', 'function': {'arguments': '{\"query\":\"teclado mecânico jogos trabalho abnt2 switches silenciosos\"}', 'name': 'web_search'}, 'type': 'function'}], 'refusal': None}, response_metadata={'token_usage': {'completion_tokens': 27, 'prompt_tokens': 206, 'total_tokens': 233, 'completion_tokens_details': {'accepted_prediction_tokens': 0, 'audio_tokens': 0, 'reasoning_tokens': 0, 'rejected_prediction_tokens': 0}, 'prompt_tokens_details': {'audio_tokens': 0, 'cached_tokens': 0}}, 'model_name': 'gpt-4o-mini-2024-07-18', 'system_fingerprint': 'fp_06737a9306', 'finish_reason': 'tool_calls', 'logprobs': None}, id='run-517842b9-19f2-41b4-9351-253cb9d57930-0', tool_calls=[{'name': 'web_search', 'args': {'query': 'teclado mecânico jogos trabalho abnt2 switches silenciosos'}, 'id': 'call_NtBUkG6W0pAVBVIqYBiQeIEN', 'type': 'tool_call'}], usage_metadata={'input_tokens': 206, 'output_tokens': 27, 'total_tokens': 233, 'input_token_details': {'audio': 0, 'cache_read': 0}, 'output_token_details': {'audio': 0, 'reasoning': 0}})]}\n",
      "==================================\u001b[1m Ai Message \u001b[0m==================================\n",
      "Tool Calls:\n",
      "  web_search (call_NtBUkG6W0pAVBVIqYBiQeIEN)\n",
      " Call ID: call_NtBUkG6W0pAVBVIqYBiQeIEN\n",
      "  Args:\n",
      "    query: teclado mecânico jogos trabalho abnt2 switches silenciosos\n",
      "event -> {'messages': [HumanMessage(content='Quero comprar um teclado', additional_kwargs={}, response_metadata={}, id='f8251a0d-9c47-44d7-a07a-1df39edd1e02'), AIMessage(content='', additional_kwargs={'tool_calls': [{'id': 'call_jDdK7o8WBHWffLfjDz1ocaVl', 'function': {'arguments': '{\"question\":\"Ao comprar um teclado, é importante levar em consideração o tipo (mecânico ou membrana), o layout (ABNT2, US, etc.), se possui iluminação, e a presença de teclas adicionais. Com isso, preciso que responda as seguintes perguntas: que tipo de teclado você prefere, qual layout você precisa, quer que tenha iluminação e se precisa de teclas adicionais?\"}', 'name': 'AskMoreDetails'}, 'type': 'function'}], 'refusal': None}, response_metadata={'token_usage': {'completion_tokens': 94, 'prompt_tokens': 159, 'total_tokens': 253, 'completion_tokens_details': {'accepted_prediction_tokens': 0, 'audio_tokens': 0, 'reasoning_tokens': 0, 'rejected_prediction_tokens': 0}, 'prompt_tokens_details': {'audio_tokens': 0, 'cached_tokens': 0}}, 'model_name': 'gpt-4o-mini-2024-07-18', 'system_fingerprint': 'fp_06737a9306', 'finish_reason': 'tool_calls', 'logprobs': None}, id='run-3b7f4bc9-1f66-450f-8c3b-60128f31f0c9-0', tool_calls=[{'name': 'AskMoreDetails', 'args': {'question': 'Ao comprar um teclado, é importante levar em consideração o tipo (mecânico ou membrana), o layout (ABNT2, US, etc.), se possui iluminação, e a presença de teclas adicionais. Com isso, preciso que responda as seguintes perguntas: que tipo de teclado você prefere, qual layout você precisa, quer que tenha iluminação e se precisa de teclas adicionais?'}, 'id': 'call_jDdK7o8WBHWffLfjDz1ocaVl', 'type': 'tool_call'}], usage_metadata={'input_tokens': 159, 'output_tokens': 94, 'total_tokens': 253, 'input_token_details': {'audio': 0, 'cache_read': 0}, 'output_token_details': {'audio': 0, 'reasoning': 0}}), ToolMessage(content='Quero um teclado mecânico para jogos e trabalho, preferêncialmente abnt2, mas n obrigatório, além disso é importante que o switch faça pouco barulho', id='2c7fb787-2b99-4609-a6c7-346543f19f93', tool_call_id='call_jDdK7o8WBHWffLfjDz1ocaVl'), AIMessage(content='', additional_kwargs={'tool_calls': [{'id': 'call_NtBUkG6W0pAVBVIqYBiQeIEN', 'function': {'arguments': '{\"query\":\"teclado mecânico jogos trabalho abnt2 switches silenciosos\"}', 'name': 'web_search'}, 'type': 'function'}], 'refusal': None}, response_metadata={'token_usage': {'completion_tokens': 27, 'prompt_tokens': 206, 'total_tokens': 233, 'completion_tokens_details': {'accepted_prediction_tokens': 0, 'audio_tokens': 0, 'reasoning_tokens': 0, 'rejected_prediction_tokens': 0}, 'prompt_tokens_details': {'audio_tokens': 0, 'cached_tokens': 0}}, 'model_name': 'gpt-4o-mini-2024-07-18', 'system_fingerprint': 'fp_06737a9306', 'finish_reason': 'tool_calls', 'logprobs': None}, id='run-517842b9-19f2-41b4-9351-253cb9d57930-0', tool_calls=[{'name': 'web_search', 'args': {'query': 'teclado mecânico jogos trabalho abnt2 switches silenciosos'}, 'id': 'call_NtBUkG6W0pAVBVIqYBiQeIEN', 'type': 'tool_call'}], usage_metadata={'input_tokens': 206, 'output_tokens': 27, 'total_tokens': 233, 'input_token_details': {'audio': 0, 'cache_read': 0}, 'output_token_details': {'audio': 0, 'reasoning': 0}}), ToolMessage(content=\"content='Aqui estão algumas informações sobre teclados mecânicos com layout ABNT2, switches silenciosos, indicados tanto para jogos quanto para trabalho:\\\\n\\\\n1. **Teclados Mecânicos com Switches Silenciosos: O Que Você Precisa Saber**\\\\n   - **Link:** [TechTudo - Teclados Mecânicos](https://www.techtudo.com.br/dicas-e-tutoriais/noticia/2021/06/teclados-mecanicos-com-switches-silenciosos-o-que-voce-precisa-saber.ghtml)\\\\n   - **Resumo:** Este artigo explica as diferenças entre os diversos tipos de switches de teclados mecânicos, incluindo os modelos silenciosos, que são ideais para quem busca um uso mais discreto, tanto em jogos quanto no ambiente de trabalho. O texto também menciona alguns modelos disponíveis no mercado e suas características.\\\\n\\\\n2. **Melhores Teclados Mecânicos com Layout ABNT e Switches Silenciosos**\\\\n   - **Link:** [Adrenaline - Melhores Teclados Mecânicos](https://adrenaline.com.br/teclados-mecanicos-com-layout-abnt-e-switches-silenciosos)\\\\n   - **Resumo:** A página lista os melhores teclados mecânicos com layout ABNT2 que possuem switches silenciosos. Os especialistas analisam as opções com base em desempenho para jogos e conforto para trabalho, destacando modelos como o SteelSeries Apex e o Corsair K70 com switches Cherry MX Silent.\\\\n\\\\n3. **Comparativa: Teclados Mecânicos para Jogo e Trabalho**\\\\n   - **Link:** [Canaltech - Comparativa Teclados](https://canaltech.com.br/teclados/comparativa-teclados-mecanicos-para-jogo-e-trabalho/)\\\\n   - **Resumo:** Este comparativo aborda diversas opções de teclados mecânicos para jogos e uso profissional, focando em modelos silenciosos com layout ABNT2. O artigo inclui prós e contras de cada opção e uma seção dedicada a teclados que equilibram bem desempenho em jogos e digitação eficiente para trabalho.\\\\n\\\\nEsses links e resumos devem ajudar você a encontrar um teclado mecânico que atenda tanto suas necessidades de jogos quanto de trabalho.' additional_kwargs={'refusal': None} response_metadata={'token_usage': {'completion_tokens': 461, 'prompt_tokens': 56, 'total_tokens': 517, 'completion_tokens_details': {'accepted_prediction_tokens': 0, 'audio_tokens': 0, 'reasoning_tokens': 0, 'rejected_prediction_tokens': 0}, 'prompt_tokens_details': {'audio_tokens': 0, 'cached_tokens': 0}}, 'model_name': 'gpt-4o-mini-2024-07-18', 'system_fingerprint': 'fp_06737a9306', 'finish_reason': 'stop', 'logprobs': None} id='run-d38f1c51-5672-442b-a3c0-af3e298a1db9-0' usage_metadata={'input_tokens': 56, 'output_tokens': 461, 'total_tokens': 517, 'input_token_details': {'audio': 0, 'cache_read': 0}, 'output_token_details': {'audio': 0, 'reasoning': 0}}\", name='web_search', id='c8b09cf1-447d-402c-ba99-3f79d6c071b6', tool_call_id='call_NtBUkG6W0pAVBVIqYBiQeIEN')]}\n",
      "=================================\u001b[1m Tool Message \u001b[0m=================================\n",
      "Name: web_search\n",
      "\n",
      "content='Aqui estão algumas informações sobre teclados mecânicos com layout ABNT2, switches silenciosos, indicados tanto para jogos quanto para trabalho:\\n\\n1. **Teclados Mecânicos com Switches Silenciosos: O Que Você Precisa Saber**\\n   - **Link:** [TechTudo - Teclados Mecânicos](https://www.techtudo.com.br/dicas-e-tutoriais/noticia/2021/06/teclados-mecanicos-com-switches-silenciosos-o-que-voce-precisa-saber.ghtml)\\n   - **Resumo:** Este artigo explica as diferenças entre os diversos tipos de switches de teclados mecânicos, incluindo os modelos silenciosos, que são ideais para quem busca um uso mais discreto, tanto em jogos quanto no ambiente de trabalho. O texto também menciona alguns modelos disponíveis no mercado e suas características.\\n\\n2. **Melhores Teclados Mecânicos com Layout ABNT e Switches Silenciosos**\\n   - **Link:** [Adrenaline - Melhores Teclados Mecânicos](https://adrenaline.com.br/teclados-mecanicos-com-layout-abnt-e-switches-silenciosos)\\n   - **Resumo:** A página lista os melhores teclados mecânicos com layout ABNT2 que possuem switches silenciosos. Os especialistas analisam as opções com base em desempenho para jogos e conforto para trabalho, destacando modelos como o SteelSeries Apex e o Corsair K70 com switches Cherry MX Silent.\\n\\n3. **Comparativa: Teclados Mecânicos para Jogo e Trabalho**\\n   - **Link:** [Canaltech - Comparativa Teclados](https://canaltech.com.br/teclados/comparativa-teclados-mecanicos-para-jogo-e-trabalho/)\\n   - **Resumo:** Este comparativo aborda diversas opções de teclados mecânicos para jogos e uso profissional, focando em modelos silenciosos com layout ABNT2. O artigo inclui prós e contras de cada opção e uma seção dedicada a teclados que equilibram bem desempenho em jogos e digitação eficiente para trabalho.\\n\\nEsses links e resumos devem ajudar você a encontrar um teclado mecânico que atenda tanto suas necessidades de jogos quanto de trabalho.' additional_kwargs={'refusal': None} response_metadata={'token_usage': {'completion_tokens': 461, 'prompt_tokens': 56, 'total_tokens': 517, 'completion_tokens_details': {'accepted_prediction_tokens': 0, 'audio_tokens': 0, 'reasoning_tokens': 0, 'rejected_prediction_tokens': 0}, 'prompt_tokens_details': {'audio_tokens': 0, 'cached_tokens': 0}}, 'model_name': 'gpt-4o-mini-2024-07-18', 'system_fingerprint': 'fp_06737a9306', 'finish_reason': 'stop', 'logprobs': None} id='run-d38f1c51-5672-442b-a3c0-af3e298a1db9-0' usage_metadata={'input_tokens': 56, 'output_tokens': 461, 'total_tokens': 517, 'input_token_details': {'audio': 0, 'cache_read': 0}, 'output_token_details': {'audio': 0, 'reasoning': 0}}\n",
      "ANALYST -> content='Aqui estão algumas opções de teclados mecânicos que atendem às suas necessidades de jogos e trabalho, possuem layout ABNT2 e switches mais silenciosos:\\n\\n1. **SteelSeries Apex Pro**\\n   - *Tipo de Switch:* Personalizável (também com opção de switch silencioso)\\n   - *Características:* Iluminação RGB, keycaps de alumínio, e um bom suporte para jogos e produtividade.\\n   - *Link:* [SteelSeries Apex Pro](https://www.techtudo.com.br/dicas-e-tutoriais/noticia/2021/06/teclados-mecanicos-com-switches-silenciosos-o-que-voce-precisa-saber.ghtml)\\n\\n2. **Corsair K70 RGB MK.2**\\n   - *Tipo de Switch:* Cherry MX Silent\\n   - *Características:* Iluminação RGB personalizável, estrutura em alumínio, ideal tanto para jogos quanto para trabalho.\\n   - *Link:* [Corsair K70 RGB MK.2](https://adrenaline.com.br/teclados-mecanicos-com-layout-abnt-e-switches-silenciosos)\\n\\n3. **Redragon Kumara K552**\\n   - *Tipo de Switch:* Outemu Brown (mais silencioso em comparação com modelos mais barulhentos)\\n   - *Características:* Pequeno e compacto, ideal para quem tem espaço limitado, e ainda assim responsivo para jogos e trabalho.\\n   - *Link:* [Redragon Kumara K552](https://canaltech.com.br/teclados/comparativa-teclados-mecanicos-para-jogo-e-trabalho/)\\n\\nEstas opções equilibram bem o desempenho em jogos e a digitação confortável para uso profissional, mantendo um nível de ruído mais baixo. Você pode explorar cada um dos links para mais informações detalhadas e escolhas adicionais. Se precisar de mais ajuda, é só avisar!' additional_kwargs={'refusal': None} response_metadata={'token_usage': {'completion_tokens': 395, 'prompt_tokens': 919, 'total_tokens': 1314, 'completion_tokens_details': {'accepted_prediction_tokens': 0, 'audio_tokens': 0, 'reasoning_tokens': 0, 'rejected_prediction_tokens': 0}, 'prompt_tokens_details': {'audio_tokens': 0, 'cached_tokens': 0}}, 'model_name': 'gpt-4o-mini-2024-07-18', 'system_fingerprint': 'fp_06737a9306', 'finish_reason': 'stop', 'logprobs': None} id='run-72aa4944-7797-4b51-a2a6-986c68f8db67-0' usage_metadata={'input_tokens': 919, 'output_tokens': 395, 'total_tokens': 1314, 'input_token_details': {'audio': 0, 'cache_read': 0}, 'output_token_details': {'audio': 0, 'reasoning': 0}}\n",
      "event -> {'messages': [HumanMessage(content='Quero comprar um teclado', additional_kwargs={}, response_metadata={}, id='f8251a0d-9c47-44d7-a07a-1df39edd1e02'), AIMessage(content='', additional_kwargs={'tool_calls': [{'id': 'call_jDdK7o8WBHWffLfjDz1ocaVl', 'function': {'arguments': '{\"question\":\"Ao comprar um teclado, é importante levar em consideração o tipo (mecânico ou membrana), o layout (ABNT2, US, etc.), se possui iluminação, e a presença de teclas adicionais. Com isso, preciso que responda as seguintes perguntas: que tipo de teclado você prefere, qual layout você precisa, quer que tenha iluminação e se precisa de teclas adicionais?\"}', 'name': 'AskMoreDetails'}, 'type': 'function'}], 'refusal': None}, response_metadata={'token_usage': {'completion_tokens': 94, 'prompt_tokens': 159, 'total_tokens': 253, 'completion_tokens_details': {'accepted_prediction_tokens': 0, 'audio_tokens': 0, 'reasoning_tokens': 0, 'rejected_prediction_tokens': 0}, 'prompt_tokens_details': {'audio_tokens': 0, 'cached_tokens': 0}}, 'model_name': 'gpt-4o-mini-2024-07-18', 'system_fingerprint': 'fp_06737a9306', 'finish_reason': 'tool_calls', 'logprobs': None}, id='run-3b7f4bc9-1f66-450f-8c3b-60128f31f0c9-0', tool_calls=[{'name': 'AskMoreDetails', 'args': {'question': 'Ao comprar um teclado, é importante levar em consideração o tipo (mecânico ou membrana), o layout (ABNT2, US, etc.), se possui iluminação, e a presença de teclas adicionais. Com isso, preciso que responda as seguintes perguntas: que tipo de teclado você prefere, qual layout você precisa, quer que tenha iluminação e se precisa de teclas adicionais?'}, 'id': 'call_jDdK7o8WBHWffLfjDz1ocaVl', 'type': 'tool_call'}], usage_metadata={'input_tokens': 159, 'output_tokens': 94, 'total_tokens': 253, 'input_token_details': {'audio': 0, 'cache_read': 0}, 'output_token_details': {'audio': 0, 'reasoning': 0}}), ToolMessage(content='Quero um teclado mecânico para jogos e trabalho, preferêncialmente abnt2, mas n obrigatório, além disso é importante que o switch faça pouco barulho', id='2c7fb787-2b99-4609-a6c7-346543f19f93', tool_call_id='call_jDdK7o8WBHWffLfjDz1ocaVl'), AIMessage(content='', additional_kwargs={'tool_calls': [{'id': 'call_NtBUkG6W0pAVBVIqYBiQeIEN', 'function': {'arguments': '{\"query\":\"teclado mecânico jogos trabalho abnt2 switches silenciosos\"}', 'name': 'web_search'}, 'type': 'function'}], 'refusal': None}, response_metadata={'token_usage': {'completion_tokens': 27, 'prompt_tokens': 206, 'total_tokens': 233, 'completion_tokens_details': {'accepted_prediction_tokens': 0, 'audio_tokens': 0, 'reasoning_tokens': 0, 'rejected_prediction_tokens': 0}, 'prompt_tokens_details': {'audio_tokens': 0, 'cached_tokens': 0}}, 'model_name': 'gpt-4o-mini-2024-07-18', 'system_fingerprint': 'fp_06737a9306', 'finish_reason': 'tool_calls', 'logprobs': None}, id='run-517842b9-19f2-41b4-9351-253cb9d57930-0', tool_calls=[{'name': 'web_search', 'args': {'query': 'teclado mecânico jogos trabalho abnt2 switches silenciosos'}, 'id': 'call_NtBUkG6W0pAVBVIqYBiQeIEN', 'type': 'tool_call'}], usage_metadata={'input_tokens': 206, 'output_tokens': 27, 'total_tokens': 233, 'input_token_details': {'audio': 0, 'cache_read': 0}, 'output_token_details': {'audio': 0, 'reasoning': 0}}), ToolMessage(content=\"content='Aqui estão algumas informações sobre teclados mecânicos com layout ABNT2, switches silenciosos, indicados tanto para jogos quanto para trabalho:\\\\n\\\\n1. **Teclados Mecânicos com Switches Silenciosos: O Que Você Precisa Saber**\\\\n   - **Link:** [TechTudo - Teclados Mecânicos](https://www.techtudo.com.br/dicas-e-tutoriais/noticia/2021/06/teclados-mecanicos-com-switches-silenciosos-o-que-voce-precisa-saber.ghtml)\\\\n   - **Resumo:** Este artigo explica as diferenças entre os diversos tipos de switches de teclados mecânicos, incluindo os modelos silenciosos, que são ideais para quem busca um uso mais discreto, tanto em jogos quanto no ambiente de trabalho. O texto também menciona alguns modelos disponíveis no mercado e suas características.\\\\n\\\\n2. **Melhores Teclados Mecânicos com Layout ABNT e Switches Silenciosos**\\\\n   - **Link:** [Adrenaline - Melhores Teclados Mecânicos](https://adrenaline.com.br/teclados-mecanicos-com-layout-abnt-e-switches-silenciosos)\\\\n   - **Resumo:** A página lista os melhores teclados mecânicos com layout ABNT2 que possuem switches silenciosos. Os especialistas analisam as opções com base em desempenho para jogos e conforto para trabalho, destacando modelos como o SteelSeries Apex e o Corsair K70 com switches Cherry MX Silent.\\\\n\\\\n3. **Comparativa: Teclados Mecânicos para Jogo e Trabalho**\\\\n   - **Link:** [Canaltech - Comparativa Teclados](https://canaltech.com.br/teclados/comparativa-teclados-mecanicos-para-jogo-e-trabalho/)\\\\n   - **Resumo:** Este comparativo aborda diversas opções de teclados mecânicos para jogos e uso profissional, focando em modelos silenciosos com layout ABNT2. O artigo inclui prós e contras de cada opção e uma seção dedicada a teclados que equilibram bem desempenho em jogos e digitação eficiente para trabalho.\\\\n\\\\nEsses links e resumos devem ajudar você a encontrar um teclado mecânico que atenda tanto suas necessidades de jogos quanto de trabalho.' additional_kwargs={'refusal': None} response_metadata={'token_usage': {'completion_tokens': 461, 'prompt_tokens': 56, 'total_tokens': 517, 'completion_tokens_details': {'accepted_prediction_tokens': 0, 'audio_tokens': 0, 'reasoning_tokens': 0, 'rejected_prediction_tokens': 0}, 'prompt_tokens_details': {'audio_tokens': 0, 'cached_tokens': 0}}, 'model_name': 'gpt-4o-mini-2024-07-18', 'system_fingerprint': 'fp_06737a9306', 'finish_reason': 'stop', 'logprobs': None} id='run-d38f1c51-5672-442b-a3c0-af3e298a1db9-0' usage_metadata={'input_tokens': 56, 'output_tokens': 461, 'total_tokens': 517, 'input_token_details': {'audio': 0, 'cache_read': 0}, 'output_token_details': {'audio': 0, 'reasoning': 0}}\", name='web_search', id='c8b09cf1-447d-402c-ba99-3f79d6c071b6', tool_call_id='call_NtBUkG6W0pAVBVIqYBiQeIEN'), AIMessage(content='Aqui estão algumas opções de teclados mecânicos que atendem às suas necessidades de jogos e trabalho, possuem layout ABNT2 e switches mais silenciosos:\\n\\n1. **SteelSeries Apex Pro**\\n   - *Tipo de Switch:* Personalizável (também com opção de switch silencioso)\\n   - *Características:* Iluminação RGB, keycaps de alumínio, e um bom suporte para jogos e produtividade.\\n   - *Link:* [SteelSeries Apex Pro](https://www.techtudo.com.br/dicas-e-tutoriais/noticia/2021/06/teclados-mecanicos-com-switches-silenciosos-o-que-voce-precisa-saber.ghtml)\\n\\n2. **Corsair K70 RGB MK.2**\\n   - *Tipo de Switch:* Cherry MX Silent\\n   - *Características:* Iluminação RGB personalizável, estrutura em alumínio, ideal tanto para jogos quanto para trabalho.\\n   - *Link:* [Corsair K70 RGB MK.2](https://adrenaline.com.br/teclados-mecanicos-com-layout-abnt-e-switches-silenciosos)\\n\\n3. **Redragon Kumara K552**\\n   - *Tipo de Switch:* Outemu Brown (mais silencioso em comparação com modelos mais barulhentos)\\n   - *Características:* Pequeno e compacto, ideal para quem tem espaço limitado, e ainda assim responsivo para jogos e trabalho.\\n   - *Link:* [Redragon Kumara K552](https://canaltech.com.br/teclados/comparativa-teclados-mecanicos-para-jogo-e-trabalho/)\\n\\nEstas opções equilibram bem o desempenho em jogos e a digitação confortável para uso profissional, mantendo um nível de ruído mais baixo. Você pode explorar cada um dos links para mais informações detalhadas e escolhas adicionais. Se precisar de mais ajuda, é só avisar!', additional_kwargs={'refusal': None}, response_metadata={'token_usage': {'completion_tokens': 395, 'prompt_tokens': 919, 'total_tokens': 1314, 'completion_tokens_details': {'accepted_prediction_tokens': 0, 'audio_tokens': 0, 'reasoning_tokens': 0, 'rejected_prediction_tokens': 0}, 'prompt_tokens_details': {'audio_tokens': 0, 'cached_tokens': 0}}, 'model_name': 'gpt-4o-mini-2024-07-18', 'system_fingerprint': 'fp_06737a9306', 'finish_reason': 'stop', 'logprobs': None}, id='run-72aa4944-7797-4b51-a2a6-986c68f8db67-0', usage_metadata={'input_tokens': 919, 'output_tokens': 395, 'total_tokens': 1314, 'input_token_details': {'audio': 0, 'cache_read': 0}, 'output_token_details': {'audio': 0, 'reasoning': 0}})]}\n",
      "==================================\u001b[1m Ai Message \u001b[0m==================================\n",
      "\n",
      "Aqui estão algumas opções de teclados mecânicos que atendem às suas necessidades de jogos e trabalho, possuem layout ABNT2 e switches mais silenciosos:\n",
      "\n",
      "1. **SteelSeries Apex Pro**\n",
      "   - *Tipo de Switch:* Personalizável (também com opção de switch silencioso)\n",
      "   - *Características:* Iluminação RGB, keycaps de alumínio, e um bom suporte para jogos e produtividade.\n",
      "   - *Link:* [SteelSeries Apex Pro](https://www.techtudo.com.br/dicas-e-tutoriais/noticia/2021/06/teclados-mecanicos-com-switches-silenciosos-o-que-voce-precisa-saber.ghtml)\n",
      "\n",
      "2. **Corsair K70 RGB MK.2**\n",
      "   - *Tipo de Switch:* Cherry MX Silent\n",
      "   - *Características:* Iluminação RGB personalizável, estrutura em alumínio, ideal tanto para jogos quanto para trabalho.\n",
      "   - *Link:* [Corsair K70 RGB MK.2](https://adrenaline.com.br/teclados-mecanicos-com-layout-abnt-e-switches-silenciosos)\n",
      "\n",
      "3. **Redragon Kumara K552**\n",
      "   - *Tipo de Switch:* Outemu Brown (mais silencioso em comparação com modelos mais barulhentos)\n",
      "   - *Características:* Pequeno e compacto, ideal para quem tem espaço limitado, e ainda assim responsivo para jogos e trabalho.\n",
      "   - *Link:* [Redragon Kumara K552](https://canaltech.com.br/teclados/comparativa-teclados-mecanicos-para-jogo-e-trabalho/)\n",
      "\n",
      "Estas opções equilibram bem o desempenho em jogos e a digitação confortável para uso profissional, mantendo um nível de ruído mais baixo. Você pode explorar cada um dos links para mais informações detalhadas e escolhas adicionais. Se precisar de mais ajuda, é só avisar!\n",
      "PRODUCT_REVIEWER -> content='Aqui estão algumas opções de teclados mecânicos que atendem às suas necessidades de jogos e trabalho, possuem layout ABNT2 e switches mais silenciosos:\\n\\n1. **SteelSeries Apex Pro**\\n   - *Tipo de Switch:* Personalizável (também com opção de switch silencioso)\\n   - *Características:* Iluminação RGB, keycaps de alumínio, e um bom suporte para jogos e produtividade.\\n\\n2. **Corsair K70 RGB MK.2**\\n   - *Tipo de Switch:* Cherry MX Silent\\n   - *Características:* Iluminação RGB personalizável, estrutura em alumínio, ideal tanto para jogos quanto para trabalho.\\n\\n3. **Redragon Kumara K552**\\n   - *Tipo de Switch:* Outemu Brown (mais silencioso em comparação com modelos mais barulhentos)\\n   - *Características:* Pequeno e compacto, ideal para quem tem espaço limitado, e ainda assim responsivo para jogos e trabalho.\\n\\nEssas opções equilibram bem o desempenho em jogos e a digitação confortável para uso profissional, mantendo um nível de ruído mais baixo. Você pode procurar por esses modelos em lojas online ou físicas para compará-los. Se precisar de mais ajuda, é só avisar!' additional_kwargs={'refusal': None} response_metadata={'token_usage': {'completion_tokens': 251, 'prompt_tokens': 1326, 'total_tokens': 1577, 'completion_tokens_details': {'accepted_prediction_tokens': 0, 'audio_tokens': 0, 'reasoning_tokens': 0, 'rejected_prediction_tokens': 0}, 'prompt_tokens_details': {'audio_tokens': 0, 'cached_tokens': 0}}, 'model_name': 'gpt-4o-mini-2024-07-18', 'system_fingerprint': 'fp_06737a9306', 'finish_reason': 'stop', 'logprobs': None} id='run-e7b226b4-583c-4bab-aef4-56dde62f211d-0' usage_metadata={'input_tokens': 1326, 'output_tokens': 251, 'total_tokens': 1577, 'input_token_details': {'audio': 0, 'cache_read': 0}, 'output_token_details': {'audio': 0, 'reasoning': 0}}\n",
      "event -> {'messages': [HumanMessage(content='Quero comprar um teclado', additional_kwargs={}, response_metadata={}, id='f8251a0d-9c47-44d7-a07a-1df39edd1e02'), AIMessage(content='', additional_kwargs={'tool_calls': [{'id': 'call_jDdK7o8WBHWffLfjDz1ocaVl', 'function': {'arguments': '{\"question\":\"Ao comprar um teclado, é importante levar em consideração o tipo (mecânico ou membrana), o layout (ABNT2, US, etc.), se possui iluminação, e a presença de teclas adicionais. Com isso, preciso que responda as seguintes perguntas: que tipo de teclado você prefere, qual layout você precisa, quer que tenha iluminação e se precisa de teclas adicionais?\"}', 'name': 'AskMoreDetails'}, 'type': 'function'}], 'refusal': None}, response_metadata={'token_usage': {'completion_tokens': 94, 'prompt_tokens': 159, 'total_tokens': 253, 'completion_tokens_details': {'accepted_prediction_tokens': 0, 'audio_tokens': 0, 'reasoning_tokens': 0, 'rejected_prediction_tokens': 0}, 'prompt_tokens_details': {'audio_tokens': 0, 'cached_tokens': 0}}, 'model_name': 'gpt-4o-mini-2024-07-18', 'system_fingerprint': 'fp_06737a9306', 'finish_reason': 'tool_calls', 'logprobs': None}, id='run-3b7f4bc9-1f66-450f-8c3b-60128f31f0c9-0', tool_calls=[{'name': 'AskMoreDetails', 'args': {'question': 'Ao comprar um teclado, é importante levar em consideração o tipo (mecânico ou membrana), o layout (ABNT2, US, etc.), se possui iluminação, e a presença de teclas adicionais. Com isso, preciso que responda as seguintes perguntas: que tipo de teclado você prefere, qual layout você precisa, quer que tenha iluminação e se precisa de teclas adicionais?'}, 'id': 'call_jDdK7o8WBHWffLfjDz1ocaVl', 'type': 'tool_call'}], usage_metadata={'input_tokens': 159, 'output_tokens': 94, 'total_tokens': 253, 'input_token_details': {'audio': 0, 'cache_read': 0}, 'output_token_details': {'audio': 0, 'reasoning': 0}}), ToolMessage(content='Quero um teclado mecânico para jogos e trabalho, preferêncialmente abnt2, mas n obrigatório, além disso é importante que o switch faça pouco barulho', id='2c7fb787-2b99-4609-a6c7-346543f19f93', tool_call_id='call_jDdK7o8WBHWffLfjDz1ocaVl'), AIMessage(content='', additional_kwargs={'tool_calls': [{'id': 'call_NtBUkG6W0pAVBVIqYBiQeIEN', 'function': {'arguments': '{\"query\":\"teclado mecânico jogos trabalho abnt2 switches silenciosos\"}', 'name': 'web_search'}, 'type': 'function'}], 'refusal': None}, response_metadata={'token_usage': {'completion_tokens': 27, 'prompt_tokens': 206, 'total_tokens': 233, 'completion_tokens_details': {'accepted_prediction_tokens': 0, 'audio_tokens': 0, 'reasoning_tokens': 0, 'rejected_prediction_tokens': 0}, 'prompt_tokens_details': {'audio_tokens': 0, 'cached_tokens': 0}}, 'model_name': 'gpt-4o-mini-2024-07-18', 'system_fingerprint': 'fp_06737a9306', 'finish_reason': 'tool_calls', 'logprobs': None}, id='run-517842b9-19f2-41b4-9351-253cb9d57930-0', tool_calls=[{'name': 'web_search', 'args': {'query': 'teclado mecânico jogos trabalho abnt2 switches silenciosos'}, 'id': 'call_NtBUkG6W0pAVBVIqYBiQeIEN', 'type': 'tool_call'}], usage_metadata={'input_tokens': 206, 'output_tokens': 27, 'total_tokens': 233, 'input_token_details': {'audio': 0, 'cache_read': 0}, 'output_token_details': {'audio': 0, 'reasoning': 0}}), ToolMessage(content=\"content='Aqui estão algumas informações sobre teclados mecânicos com layout ABNT2, switches silenciosos, indicados tanto para jogos quanto para trabalho:\\\\n\\\\n1. **Teclados Mecânicos com Switches Silenciosos: O Que Você Precisa Saber**\\\\n   - **Link:** [TechTudo - Teclados Mecânicos](https://www.techtudo.com.br/dicas-e-tutoriais/noticia/2021/06/teclados-mecanicos-com-switches-silenciosos-o-que-voce-precisa-saber.ghtml)\\\\n   - **Resumo:** Este artigo explica as diferenças entre os diversos tipos de switches de teclados mecânicos, incluindo os modelos silenciosos, que são ideais para quem busca um uso mais discreto, tanto em jogos quanto no ambiente de trabalho. O texto também menciona alguns modelos disponíveis no mercado e suas características.\\\\n\\\\n2. **Melhores Teclados Mecânicos com Layout ABNT e Switches Silenciosos**\\\\n   - **Link:** [Adrenaline - Melhores Teclados Mecânicos](https://adrenaline.com.br/teclados-mecanicos-com-layout-abnt-e-switches-silenciosos)\\\\n   - **Resumo:** A página lista os melhores teclados mecânicos com layout ABNT2 que possuem switches silenciosos. Os especialistas analisam as opções com base em desempenho para jogos e conforto para trabalho, destacando modelos como o SteelSeries Apex e o Corsair K70 com switches Cherry MX Silent.\\\\n\\\\n3. **Comparativa: Teclados Mecânicos para Jogo e Trabalho**\\\\n   - **Link:** [Canaltech - Comparativa Teclados](https://canaltech.com.br/teclados/comparativa-teclados-mecanicos-para-jogo-e-trabalho/)\\\\n   - **Resumo:** Este comparativo aborda diversas opções de teclados mecânicos para jogos e uso profissional, focando em modelos silenciosos com layout ABNT2. O artigo inclui prós e contras de cada opção e uma seção dedicada a teclados que equilibram bem desempenho em jogos e digitação eficiente para trabalho.\\\\n\\\\nEsses links e resumos devem ajudar você a encontrar um teclado mecânico que atenda tanto suas necessidades de jogos quanto de trabalho.' additional_kwargs={'refusal': None} response_metadata={'token_usage': {'completion_tokens': 461, 'prompt_tokens': 56, 'total_tokens': 517, 'completion_tokens_details': {'accepted_prediction_tokens': 0, 'audio_tokens': 0, 'reasoning_tokens': 0, 'rejected_prediction_tokens': 0}, 'prompt_tokens_details': {'audio_tokens': 0, 'cached_tokens': 0}}, 'model_name': 'gpt-4o-mini-2024-07-18', 'system_fingerprint': 'fp_06737a9306', 'finish_reason': 'stop', 'logprobs': None} id='run-d38f1c51-5672-442b-a3c0-af3e298a1db9-0' usage_metadata={'input_tokens': 56, 'output_tokens': 461, 'total_tokens': 517, 'input_token_details': {'audio': 0, 'cache_read': 0}, 'output_token_details': {'audio': 0, 'reasoning': 0}}\", name='web_search', id='c8b09cf1-447d-402c-ba99-3f79d6c071b6', tool_call_id='call_NtBUkG6W0pAVBVIqYBiQeIEN'), AIMessage(content='Aqui estão algumas opções de teclados mecânicos que atendem às suas necessidades de jogos e trabalho, possuem layout ABNT2 e switches mais silenciosos:\\n\\n1. **SteelSeries Apex Pro**\\n   - *Tipo de Switch:* Personalizável (também com opção de switch silencioso)\\n   - *Características:* Iluminação RGB, keycaps de alumínio, e um bom suporte para jogos e produtividade.\\n   - *Link:* [SteelSeries Apex Pro](https://www.techtudo.com.br/dicas-e-tutoriais/noticia/2021/06/teclados-mecanicos-com-switches-silenciosos-o-que-voce-precisa-saber.ghtml)\\n\\n2. **Corsair K70 RGB MK.2**\\n   - *Tipo de Switch:* Cherry MX Silent\\n   - *Características:* Iluminação RGB personalizável, estrutura em alumínio, ideal tanto para jogos quanto para trabalho.\\n   - *Link:* [Corsair K70 RGB MK.2](https://adrenaline.com.br/teclados-mecanicos-com-layout-abnt-e-switches-silenciosos)\\n\\n3. **Redragon Kumara K552**\\n   - *Tipo de Switch:* Outemu Brown (mais silencioso em comparação com modelos mais barulhentos)\\n   - *Características:* Pequeno e compacto, ideal para quem tem espaço limitado, e ainda assim responsivo para jogos e trabalho.\\n   - *Link:* [Redragon Kumara K552](https://canaltech.com.br/teclados/comparativa-teclados-mecanicos-para-jogo-e-trabalho/)\\n\\nEstas opções equilibram bem o desempenho em jogos e a digitação confortável para uso profissional, mantendo um nível de ruído mais baixo. Você pode explorar cada um dos links para mais informações detalhadas e escolhas adicionais. Se precisar de mais ajuda, é só avisar!', additional_kwargs={'refusal': None}, response_metadata={'token_usage': {'completion_tokens': 395, 'prompt_tokens': 919, 'total_tokens': 1314, 'completion_tokens_details': {'accepted_prediction_tokens': 0, 'audio_tokens': 0, 'reasoning_tokens': 0, 'rejected_prediction_tokens': 0}, 'prompt_tokens_details': {'audio_tokens': 0, 'cached_tokens': 0}}, 'model_name': 'gpt-4o-mini-2024-07-18', 'system_fingerprint': 'fp_06737a9306', 'finish_reason': 'stop', 'logprobs': None}, id='run-72aa4944-7797-4b51-a2a6-986c68f8db67-0', usage_metadata={'input_tokens': 919, 'output_tokens': 395, 'total_tokens': 1314, 'input_token_details': {'audio': 0, 'cache_read': 0}, 'output_token_details': {'audio': 0, 'reasoning': 0}}), AIMessage(content='Aqui estão algumas opções de teclados mecânicos que atendem às suas necessidades de jogos e trabalho, possuem layout ABNT2 e switches mais silenciosos:\\n\\n1. **SteelSeries Apex Pro**\\n   - *Tipo de Switch:* Personalizável (também com opção de switch silencioso)\\n   - *Características:* Iluminação RGB, keycaps de alumínio, e um bom suporte para jogos e produtividade.\\n\\n2. **Corsair K70 RGB MK.2**\\n   - *Tipo de Switch:* Cherry MX Silent\\n   - *Características:* Iluminação RGB personalizável, estrutura em alumínio, ideal tanto para jogos quanto para trabalho.\\n\\n3. **Redragon Kumara K552**\\n   - *Tipo de Switch:* Outemu Brown (mais silencioso em comparação com modelos mais barulhentos)\\n   - *Características:* Pequeno e compacto, ideal para quem tem espaço limitado, e ainda assim responsivo para jogos e trabalho.\\n\\nEssas opções equilibram bem o desempenho em jogos e a digitação confortável para uso profissional, mantendo um nível de ruído mais baixo. Você pode procurar por esses modelos em lojas online ou físicas para compará-los. Se precisar de mais ajuda, é só avisar!', additional_kwargs={'refusal': None}, response_metadata={'token_usage': {'completion_tokens': 251, 'prompt_tokens': 1326, 'total_tokens': 1577, 'completion_tokens_details': {'accepted_prediction_tokens': 0, 'audio_tokens': 0, 'reasoning_tokens': 0, 'rejected_prediction_tokens': 0}, 'prompt_tokens_details': {'audio_tokens': 0, 'cached_tokens': 0}}, 'model_name': 'gpt-4o-mini-2024-07-18', 'system_fingerprint': 'fp_06737a9306', 'finish_reason': 'stop', 'logprobs': None}, id='run-e7b226b4-583c-4bab-aef4-56dde62f211d-0', usage_metadata={'input_tokens': 1326, 'output_tokens': 251, 'total_tokens': 1577, 'input_token_details': {'audio': 0, 'cache_read': 0}, 'output_token_details': {'audio': 0, 'reasoning': 0}})]}\n",
      "==================================\u001b[1m Ai Message \u001b[0m==================================\n",
      "\n",
      "Aqui estão algumas opções de teclados mecânicos que atendem às suas necessidades de jogos e trabalho, possuem layout ABNT2 e switches mais silenciosos:\n",
      "\n",
      "1. **SteelSeries Apex Pro**\n",
      "   - *Tipo de Switch:* Personalizável (também com opção de switch silencioso)\n",
      "   - *Características:* Iluminação RGB, keycaps de alumínio, e um bom suporte para jogos e produtividade.\n",
      "\n",
      "2. **Corsair K70 RGB MK.2**\n",
      "   - *Tipo de Switch:* Cherry MX Silent\n",
      "   - *Características:* Iluminação RGB personalizável, estrutura em alumínio, ideal tanto para jogos quanto para trabalho.\n",
      "\n",
      "3. **Redragon Kumara K552**\n",
      "   - *Tipo de Switch:* Outemu Brown (mais silencioso em comparação com modelos mais barulhentos)\n",
      "   - *Características:* Pequeno e compacto, ideal para quem tem espaço limitado, e ainda assim responsivo para jogos e trabalho.\n",
      "\n",
      "Essas opções equilibram bem o desempenho em jogos e a digitação confortável para uso profissional, mantendo um nível de ruído mais baixo. Você pode procurar por esses modelos em lojas online ou físicas para compará-los. Se precisar de mais ajuda, é só avisar!\n",
      "AFTER stream_graph_updates\n"
     ]
    }
   ],
   "source": [
    "config = {\"configurable\": {\"thread_id\": \"1\"}}\n",
    "\n",
    "def stream_graph_updates(user_input):\n",
    "  events = graph.stream(\n",
    "    {\"messages\": [{\"role\": \"user\", \"content\": user_input}]} if isinstance(user_input, str) else user_input,\n",
    "    config,\n",
    "    stream_mode=\"values\"\n",
    "  )\n",
    "\n",
    "  last_message = \"\"\n",
    "  for event in events:\n",
    "    print(f\"event -> {event}\")\n",
    "    \n",
    "    if \"messages\" in event:\n",
    "      last_message = event[\"messages\"][-1]\n",
    "      last_message.pretty_print()\n",
    "  \n",
    "  if hasattr(last_message, \"tool_calls\") and last_message.tool_calls:\n",
    "    question = last_message.tool_calls[0][\"args\"][\"question\"]\n",
    "    human_response = input(f\"{question}\\nUser: \")\n",
    "    if human_response.lower() in [\"quit\", \"exit\", \"q\"]:\n",
    "      print(\"Goodbye!\")\n",
    "      return\n",
    "    command = Command(resume=human_response)\n",
    "    stream_graph_updates(command)\n",
    "\n",
    "\n",
    "try:\n",
    "  user_input = input(\"User: \")\n",
    "  if user_input.lower() in [\"quit\", \"exit\", \"q\"]:\n",
    "    print(\"Goodbye!\")\n",
    "  else:\n",
    "    stream_graph_updates(user_input)\n",
    "    print(\"AFTER stream_graph_updates\")\n",
    "except Exception as e:\n",
    "  print(\"EXCEPT:\")\n",
    "  print(e)\n",
    "  "
   ]
  },
  {
   "cell_type": "code",
   "execution_count": null,
   "metadata": {},
   "outputs": [],
   "source": []
  }
 ],
 "metadata": {
  "kernelspec": {
   "display_name": "base",
   "language": "python",
   "name": "python3"
  },
  "language_info": {
   "codemirror_mode": {
    "name": "ipython",
    "version": 3
   },
   "file_extension": ".py",
   "mimetype": "text/x-python",
   "name": "python",
   "nbconvert_exporter": "python",
   "pygments_lexer": "ipython3",
   "version": "3.11.5"
  }
 },
 "nbformat": 4,
 "nbformat_minor": 2
}

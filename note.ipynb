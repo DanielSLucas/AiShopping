{
 "cells": [
  {
   "cell_type": "code",
   "execution_count": 28,
   "metadata": {},
   "outputs": [],
   "source": [
    "from openai import OpenAI\n",
    "from os import getenv\n",
    "import pandas as pd\n",
    "import numpy as np\n",
    "\n",
    "from playwright.async_api import async_playwright\n",
    "from bs4 import BeautifulSoup"
   ]
  },
  {
   "cell_type": "code",
   "execution_count": 23,
   "metadata": {},
   "outputs": [],
   "source": [
    "openai_client = OpenAI(api_key=getenv(\"OPENAI_API_KEY\"))"
   ]
  },
  {
   "cell_type": "code",
   "execution_count": 24,
   "metadata": {},
   "outputs": [],
   "source": [
    "async def extract_data(url):\n",
    "  async with async_playwright() as p:\n",
    "    browser = await p.chromium.launch(headless=False)\n",
    "    page = await browser.new_page()\n",
    "\n",
    "    await page.goto(url)\n",
    "    await page.wait_for_load_state()\n",
    "\n",
    "    page_content = await page.content()\n",
    "    await browser.close()\n",
    "\n",
    "    return page_content\n",
    "  \n",
    "def clean_html(html_content):\n",
    "  soup = BeautifulSoup(html_content, 'html.parser')\n",
    "        \n",
    "  for script in soup([\"script\", \"style\", \"svg\", \"path\", \"meta\", \"link\"]):\n",
    "    script.extract()\n",
    "  \n",
    "  return soup.decode()\n",
    "\n",
    "def text_chunks(text:str, chunk_size: int = 500):\n",
    "  return [text[i:i+chunk_size] for i in range(0, len(text), chunk_size)]\n",
    "\n",
    "def get_embedding(text: str, model=\"text-embedding-3-small\"):\n",
    "  response = openai_client.embeddings.create(\n",
    "    model=model,\n",
    "    input=text\n",
    "  )\n",
    "\n",
    "  return response.data[0].embedding\n",
    "\n",
    "def cosine_similarity(vec1, vec2):\n",
    "  \"\"\"Computes the cosine similarity between two vectors.\"\"\"\n",
    "  vec1 = np.array(vec1)\n",
    "  vec2 = np.array(vec2)\n",
    "  return np.dot(vec1, vec2) / (np.linalg.norm(vec1) * np.linalg.norm(vec2))"
   ]
  },
  {
   "cell_type": "code",
   "execution_count": 31,
   "metadata": {},
   "outputs": [],
   "source": [
    "full_html = await extract_data(\"https://lista.mercadolivre.com.br/mouse-sem-fio#D[A:mouse%20sem%20fio]\")\n",
    "cleaned_html = clean_html(full_html)\n",
    "chunks = text_chunks(cleaned_html)"
   ]
  },
  {
   "cell_type": "code",
   "execution_count": 32,
   "metadata": {},
   "outputs": [
    {
     "data": {
      "text/html": [
       "<div>\n",
       "<style scoped>\n",
       "    .dataframe tbody tr th:only-of-type {\n",
       "        vertical-align: middle;\n",
       "    }\n",
       "\n",
       "    .dataframe tbody tr th {\n",
       "        vertical-align: top;\n",
       "    }\n",
       "\n",
       "    .dataframe thead th {\n",
       "        text-align: right;\n",
       "    }\n",
       "</style>\n",
       "<table border=\"1\" class=\"dataframe\">\n",
       "  <thead>\n",
       "    <tr style=\"text-align: right;\">\n",
       "      <th></th>\n",
       "      <th>chunk</th>\n",
       "    </tr>\n",
       "  </thead>\n",
       "  <tbody>\n",
       "    <tr>\n",
       "      <th>0</th>\n",
       "      <td>&lt;!DOCTYPE html&gt;\\n&lt;html lang=\"pt-BR\"&gt;&lt;head&gt;&lt;nos...</td>\n",
       "    </tr>\n",
       "    <tr>\n",
       "      <th>1</th>\n",
       "      <td>ontent\"&gt;Pular para o conteúdo&lt;/span&gt;&lt;/a&gt;&lt;a cla...</td>\n",
       "    </tr>\n",
       "    <tr>\n",
       "      <th>2</th>\n",
       "      <td>\"GET\" role=\"search\"&gt;&lt;label class=\"nav-header-v...</td>\n",
       "    </tr>\n",
       "    <tr>\n",
       "      <th>3</th>\n",
       "      <td>ategorySearch\"&gt;Somente em Mouses&lt;/label&gt;&lt;/p&gt;&lt;b...</td>\n",
       "    </tr>\n",
       "    <tr>\n",
       "      <th>4</th>\n",
       "      <td>_journey&amp;amp;me.position=0\"&gt;&lt;img alt=\"Assine m...</td>\n",
       "    </tr>\n",
       "  </tbody>\n",
       "</table>\n",
       "</div>"
      ],
      "text/plain": [
       "                                               chunk\n",
       "0  <!DOCTYPE html>\\n<html lang=\"pt-BR\"><head><nos...\n",
       "1  ontent\">Pular para o conteúdo</span></a><a cla...\n",
       "2  \"GET\" role=\"search\"><label class=\"nav-header-v...\n",
       "3  ategorySearch\">Somente em Mouses</label></p><b...\n",
       "4  _journey&amp;me.position=0\"><img alt=\"Assine m..."
      ]
     },
     "execution_count": 32,
     "metadata": {},
     "output_type": "execute_result"
    }
   ],
   "source": [
    "df = pd.DataFrame({ \"chunk\": chunks })\n",
    "df.head()"
   ]
  },
  {
   "cell_type": "code",
   "execution_count": 37,
   "metadata": {},
   "outputs": [],
   "source": [
    "query_embedding = get_embedding(\"input e botão de busca\")"
   ]
  },
  {
   "cell_type": "code",
   "execution_count": 33,
   "metadata": {},
   "outputs": [
    {
     "data": {
      "text/html": [
       "<div>\n",
       "<style scoped>\n",
       "    .dataframe tbody tr th:only-of-type {\n",
       "        vertical-align: middle;\n",
       "    }\n",
       "\n",
       "    .dataframe tbody tr th {\n",
       "        vertical-align: top;\n",
       "    }\n",
       "\n",
       "    .dataframe thead th {\n",
       "        text-align: right;\n",
       "    }\n",
       "</style>\n",
       "<table border=\"1\" class=\"dataframe\">\n",
       "  <thead>\n",
       "    <tr style=\"text-align: right;\">\n",
       "      <th></th>\n",
       "      <th>chunk</th>\n",
       "      <th>chunk_embedding</th>\n",
       "    </tr>\n",
       "  </thead>\n",
       "  <tbody>\n",
       "    <tr>\n",
       "      <th>0</th>\n",
       "      <td>&lt;!DOCTYPE html&gt;\\n&lt;html lang=\"pt-BR\"&gt;&lt;head&gt;&lt;nos...</td>\n",
       "      <td>[0.03531873971223831, 0.01972978003323078, -0....</td>\n",
       "    </tr>\n",
       "    <tr>\n",
       "      <th>1</th>\n",
       "      <td>ontent\"&gt;Pular para o conteúdo&lt;/span&gt;&lt;/a&gt;&lt;a cla...</td>\n",
       "      <td>[0.0337677039206028, 0.010828710161149502, -0....</td>\n",
       "    </tr>\n",
       "    <tr>\n",
       "      <th>2</th>\n",
       "      <td>\"GET\" role=\"search\"&gt;&lt;label class=\"nav-header-v...</td>\n",
       "      <td>[0.020205704495310783, 0.021671174094080925, -...</td>\n",
       "    </tr>\n",
       "    <tr>\n",
       "      <th>3</th>\n",
       "      <td>ategorySearch\"&gt;Somente em Mouses&lt;/label&gt;&lt;/p&gt;&lt;b...</td>\n",
       "      <td>[0.0009286377462558448, 0.03196325898170471, -...</td>\n",
       "    </tr>\n",
       "    <tr>\n",
       "      <th>4</th>\n",
       "      <td>_journey&amp;amp;me.position=0\"&gt;&lt;img alt=\"Assine m...</td>\n",
       "      <td>[-0.011209553107619286, 0.010126677341759205, ...</td>\n",
       "    </tr>\n",
       "  </tbody>\n",
       "</table>\n",
       "</div>"
      ],
      "text/plain": [
       "                                               chunk  \\\n",
       "0  <!DOCTYPE html>\\n<html lang=\"pt-BR\"><head><nos...   \n",
       "1  ontent\">Pular para o conteúdo</span></a><a cla...   \n",
       "2  \"GET\" role=\"search\"><label class=\"nav-header-v...   \n",
       "3  ategorySearch\">Somente em Mouses</label></p><b...   \n",
       "4  _journey&amp;me.position=0\"><img alt=\"Assine m...   \n",
       "\n",
       "                                     chunk_embedding  \n",
       "0  [0.03531873971223831, 0.01972978003323078, -0....  \n",
       "1  [0.0337677039206028, 0.010828710161149502, -0....  \n",
       "2  [0.020205704495310783, 0.021671174094080925, -...  \n",
       "3  [0.0009286377462558448, 0.03196325898170471, -...  \n",
       "4  [-0.011209553107619286, 0.010126677341759205, ...  "
      ]
     },
     "execution_count": 33,
     "metadata": {},
     "output_type": "execute_result"
    }
   ],
   "source": [
    "df[\"chunk_embedding\"] = df['chunk'].apply(lambda x: get_embedding(x))\n",
    "df.head()"
   ]
  },
  {
   "cell_type": "code",
   "execution_count": 38,
   "metadata": {},
   "outputs": [
    {
     "data": {
      "text/html": [
       "<div>\n",
       "<style scoped>\n",
       "    .dataframe tbody tr th:only-of-type {\n",
       "        vertical-align: middle;\n",
       "    }\n",
       "\n",
       "    .dataframe tbody tr th {\n",
       "        vertical-align: top;\n",
       "    }\n",
       "\n",
       "    .dataframe thead th {\n",
       "        text-align: right;\n",
       "    }\n",
       "</style>\n",
       "<table border=\"1\" class=\"dataframe\">\n",
       "  <thead>\n",
       "    <tr style=\"text-align: right;\">\n",
       "      <th></th>\n",
       "      <th>chunk</th>\n",
       "      <th>chunk_embedding</th>\n",
       "      <th>similarities</th>\n",
       "    </tr>\n",
       "  </thead>\n",
       "  <tbody>\n",
       "    <tr>\n",
       "      <th>2</th>\n",
       "      <td>\"GET\" role=\"search\"&gt;&lt;label class=\"nav-header-v...</td>\n",
       "      <td>[0.020205704495310783, 0.021671174094080925, -...</td>\n",
       "      <td>0.668593</td>\n",
       "    </tr>\n",
       "    <tr>\n",
       "      <th>134</th>\n",
       "      <td>SENSOR_RESOLUTION\" enterkeyhint=\"go\" id=\":Rpig...</td>\n",
       "      <td>[0.031246818602085114, 0.033144205808639526, -...</td>\n",
       "      <td>0.642060</td>\n",
       "    </tr>\n",
       "  </tbody>\n",
       "</table>\n",
       "</div>"
      ],
      "text/plain": [
       "                                                 chunk  \\\n",
       "2    \"GET\" role=\"search\"><label class=\"nav-header-v...   \n",
       "134  SENSOR_RESOLUTION\" enterkeyhint=\"go\" id=\":Rpig...   \n",
       "\n",
       "                                       chunk_embedding  similarities  \n",
       "2    [0.020205704495310783, 0.021671174094080925, -...      0.668593  \n",
       "134  [0.031246818602085114, 0.033144205808639526, -...      0.642060  "
      ]
     },
     "execution_count": 38,
     "metadata": {},
     "output_type": "execute_result"
    }
   ],
   "source": [
    "df['similarities'] = df[\"chunk_embedding\"].apply(lambda x: cosine_similarity(x, query_embedding))\n",
    "res = df.sort_values(\"similarities\", ascending=False).head(2)\n",
    "res"
   ]
  }
 ],
 "metadata": {
  "kernelspec": {
   "display_name": "base",
   "language": "python",
   "name": "python3"
  },
  "language_info": {
   "codemirror_mode": {
    "name": "ipython",
    "version": 3
   },
   "file_extension": ".py",
   "mimetype": "text/x-python",
   "name": "python",
   "nbconvert_exporter": "python",
   "pygments_lexer": "ipython3",
   "version": "3.11.5"
  }
 },
 "nbformat": 4,
 "nbformat_minor": 2
}
